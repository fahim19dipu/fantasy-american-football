{
 "cells": [
  {
   "cell_type": "code",
   "execution_count": 1,
   "id": "9e418138",
   "metadata": {},
   "outputs": [],
   "source": [
    "\n",
    "\n",
    "import pandas as pd\n",
    "import itertools\n",
    "\n",
    "global positions, all_comb\n",
    "\n",
    "def find_best_teams(df,oprk_cutoff):\n",
    "    df.sort_values(by='AvgPointsPerGame', ascending=False, inplace=True)\n",
    "    df.head()\n",
    "\n",
    "    df = df[df[\"OPRK\"] >= oprk_cutoff]\n",
    "    max_budget = 500\n",
    "\n",
    "\n",
    "    df_opt = df.copy()\n",
    "    df_opt[\"psratio\"] = 0\n",
    "    df_opt[\"Flex\"] = df['Roster Position'].str.contains('FLEX')\n",
    "    for i, row in df_opt.iterrows():\n",
    "        df_opt.loc[(i, \"Salary\")] /= 100\n",
    "        df_opt.loc[(i, \"psratio\")] = df_opt.loc[(i, \"AvgPointsPerGame\")]/df_opt.loc[(i, \"Salary\")]\n",
    "    df_opt = df_opt.drop(['Name + ID', 'Roster Position', 'Game Info', 'TeamAbbrev', 'OPRK', 'Roster Position'], axis=1)\n",
    "    df_opt = df_opt.set_axis(['pos', 'name', 'id', 'salary', 'point', 'psratio', 'flex'], axis='columns', copy=False)\n",
    "    df_opt.sort_values(by='psratio', ascending=False, inplace=True)\n",
    "\n",
    "\n",
    "\n",
    "    #df_opt[df_opt[\"pos\"]==\"WR\"]\n",
    "\n",
    "\n",
    "\n",
    "    def total_salary(df):\n",
    "        return sum(df[\"salary\"])\n",
    "\n",
    "    def total_points(df):\n",
    "        return sum(df[\"point\"])\n",
    "\n",
    "\n",
    "\n",
    "    all_comb = {}\n",
    "    positions = ['QB', 'RB', 'WR', 'TE', 'DST']\n",
    "    positions_max = {'QB':1, 'RB':2, 'WR':3, 'TE':1, 'DST':1}\n",
    "\n",
    "    for pos in positions:\n",
    "        ids = list(df_opt[df_opt[\"pos\"]==pos][\"id\"])\n",
    "        temp_comb = {}\n",
    "        for comb in itertools.combinations(ids, positions_max[pos]):\n",
    "            cand = df_opt[df_opt[\"id\"].isin(comb)]\n",
    "            temp_comb[comb] = ( total_salary(cand), total_points(cand) )\n",
    "        temp_comb = sorted(temp_comb.items(), key=lambda x:x[1][1], reverse=True)\n",
    "\n",
    "        all_comb[pos] = []\n",
    "        min_salary = 99999\n",
    "        for comb in temp_comb:\n",
    "            if comb[1][0] < min_salary:\n",
    "                all_comb[pos].append(comb)\n",
    "                min_salary = comb[1][0]\n",
    "\n",
    "\n",
    "    all_teams = {}\n",
    "    def createTeamCombinationsWithoutFlex(pos, team, total_salary, total_points):\n",
    "        \n",
    "\n",
    "        if pos == 5:\n",
    "            all_teams[tuple(sorted(team))] = (total_salary, total_points)\n",
    "            return\n",
    "\n",
    "        for comb in all_comb[positions[pos]]:\n",
    "            createTeamCombinationsWithoutFlex(pos+1, team+comb[0], total_salary+comb[1][0], total_points+comb[1][1])\n",
    "\n",
    "\n",
    "\n",
    "    createTeamCombinationsWithoutFlex(0, (), 0, 0)\n",
    "\n",
    "\n",
    "    df_flex = df_opt[df_opt['flex']==True].copy()\n",
    "    df_flex.sort_values(by='point', ascending=False, inplace=True)\n",
    "\n",
    "\n",
    "    best_teams = {}\n",
    "    for comb in all_teams.keys():\n",
    "        salary = all_teams[comb][0]\n",
    "        point = all_teams[comb][1]\n",
    "\n",
    "        if salary>=max_budget:\n",
    "            continue\n",
    "\n",
    "        for i, row in df_flex.iterrows():\n",
    "            if salary + row['salary'] <= max_budget and not row['id'] in comb:\n",
    "                best_teams[comb+tuple([row['id']])] = ( salary + row['salary'], point + row['point'])\n",
    "                break\n",
    "\n",
    "\n",
    "\n",
    "    best_teams = sorted(best_teams.items(), key=lambda x:x[1][1], reverse=True)\n",
    "\n",
    "    return best_teams \n",
    "\n",
    "\n"
   ]
  },
  {
   "cell_type": "code",
   "execution_count": 5,
   "id": "281d540c",
   "metadata": {},
   "outputs": [
    {
     "data": {
      "application/vnd.jupyter.widget-view+json": {
       "model_id": "e536dbe8e00f4ea4aef8c372dba2af6a",
       "version_major": 2,
       "version_minor": 0
      },
      "text/plain": [
       "FileUpload(value=(), accept='.xlsx', description='Upload Excel file')"
      ]
     },
     "metadata": {},
     "output_type": "display_data"
    },
    {
     "data": {
      "application/vnd.jupyter.widget-view+json": {
       "model_id": "94a10dcc888a467cb5b07459a3145088",
       "version_major": 2,
       "version_minor": 0
      },
      "text/plain": [
       "IntText(value=5, description='OPRK Cutoff')"
      ]
     },
     "metadata": {},
     "output_type": "display_data"
    },
    {
     "data": {
      "application/vnd.jupyter.widget-view+json": {
       "model_id": "6941de601dac4f7287195ad43542712f",
       "version_major": 2,
       "version_minor": 0
      },
      "text/plain": [
       "IntText(value=10, description='Number Teams')"
      ]
     },
     "metadata": {},
     "output_type": "display_data"
    },
    {
     "data": {
      "application/vnd.jupyter.widget-view+json": {
       "model_id": "6a573c788fbf4b6892d3c11892583180",
       "version_major": 2,
       "version_minor": 0
      },
      "text/plain": [
       "Button(description='Calculate Best Teams', style=ButtonStyle())"
      ]
     },
     "metadata": {},
     "output_type": "display_data"
    },
    {
     "data": {
      "application/vnd.jupyter.widget-view+json": {
       "model_id": "a3b1c2d0aab94d9992ceb017fb5942e5",
       "version_major": 2,
       "version_minor": 0
      },
      "text/plain": [
       "Output()"
      ]
     },
     "metadata": {},
     "output_type": "display_data"
    }
   ],
   "source": [
    "import pandas as pd\n",
    "from itertools import combinations\n",
    "import ipywidgets as widgets\n",
    "from IPython.display import display, clear_output, Javascript\n",
    "\n",
    "\n",
    "# Create widgets for file upload and cutoff_oprk input\n",
    "file_upload = widgets.FileUpload(accept='.xlsx', description='Upload Excel file')\n",
    "cutoff_oprk = widgets.IntText(value=5, description='OPRK Cutoff')\n",
    "num_teams = widgets.IntText(value=10, description='Num Teams')\n",
    "\n",
    "# Define output widgets\n",
    "output_table = widgets.Output()\n",
    "\n",
    "def on_button_click(b):\n",
    "\n",
    "    with output_table:\n",
    "        clear_output()\n",
    "        if file_upload.value:\n",
    "            uploaded_file = list(file_upload.value)[0]  # Access the first uploaded file\n",
    "            file_content = uploaded_file['content']\n",
    "            with open(uploaded_file['name'], 'wb') as f:\n",
    "                f.write(file_content)\n",
    "            df = pd.read_excel(uploaded_file['name'])\n",
    "            cutoff = cutoff_oprk.value\n",
    "            best_teams = find_best_teams(df, cutoff)\n",
    "            # Display each team dataframe\n",
    "            for tm in best_teams[:num_teams.value]:\n",
    "                team_df = df[df[\"ID\"].isin(tm[0])]\n",
    "                total_points = tm[1][1]\n",
    "                total_salary = tm[1][0]\n",
    "                print(f\"Total Points = {total_points}, Total Salary = {total_salary*100}\")\n",
    "                display(team_df[[\"Roster Position\",\"Name\",\"Salary\",\"AvgPointsPerGame\",\"OPRK\"]])\n",
    "        else:\n",
    "            display(Javascript(\"alert('Please select an excel filebefore clicking submit.');\"))\n",
    "            return\n",
    "        \n",
    "        \n",
    "# Create a button widget to trigger the team calculation\n",
    "calculate_button = widgets.Button(description='Calculate Best Teams')\n",
    "calculate_button.on_click(on_button_click)\n",
    "\n",
    "# Display widgets\n",
    "display(file_upload, cutoff_oprk, num_teams,calculate_button)\n",
    "display(output_table)"
   ]
  },
  {
   "cell_type": "code",
   "execution_count": null,
   "id": "36a54700",
   "metadata": {},
   "outputs": [],
   "source": []
  }
 ],
 "metadata": {
  "kernelspec": {
   "display_name": "Python 3 (ipykernel)",
   "language": "python",
   "name": "python3"
  },
  "language_info": {
   "codemirror_mode": {
    "name": "ipython",
    "version": 3
   },
   "file_extension": ".py",
   "mimetype": "text/x-python",
   "name": "python",
   "nbconvert_exporter": "python",
   "pygments_lexer": "ipython3",
   "version": "3.11.5"
  }
 },
 "nbformat": 4,
 "nbformat_minor": 5
}
