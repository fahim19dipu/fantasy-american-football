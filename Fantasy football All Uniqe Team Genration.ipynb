{
 "cells": [
  {
   "cell_type": "markdown",
   "id": "0f42ae57",
   "metadata": {},
   "source": [
    "# Fantasy Football Team Generation"
   ]
  },
  {
   "cell_type": "markdown",
   "id": "f3520152",
   "metadata": {},
   "source": [
    "### Libraries"
   ]
  },
  {
   "cell_type": "code",
   "execution_count": 1,
   "id": "d732521e",
   "metadata": {},
   "outputs": [],
   "source": [
    "try: \n",
    "    import pandas as pd\n",
    "    from itertools import combinations\n",
    "    import ipywidgets as widgets\n",
    "    from IPython.display import display, clear_output,HTML , Javascript \n",
    "except:\n",
    "    ! pip install pandas openpyxl\n",
    "    ! pip install ipywidgets"
   ]
  },
  {
   "cell_type": "markdown",
   "id": "9f8dc582",
   "metadata": {},
   "source": [
    "### Funtion that will find the best team"
   ]
  },
  {
   "cell_type": "code",
   "execution_count": 12,
   "id": "9e418138",
   "metadata": {},
   "outputs": [],
   "source": [
    "\n",
    "\n",
    "def find_best_teams(data, cutoff_oprk,num_teams):\n",
    "    qb_df = data[data['Position'] == 'QB'].copy()\n",
    "    rb_df = data[data['Position'] == 'RB'].copy()\n",
    "    wr_df = data[data['Position'] == 'WR'].copy()\n",
    "    te_df = data[data['Position'] == 'TE'].copy()\n",
    "    dst_df = data[data['Position'] == 'DST'].copy()\n",
    "\n",
    "    for df in [qb_df, rb_df, wr_df, te_df, dst_df]:\n",
    "        df['selected'] = False\n",
    "\n",
    "    flex_df = data[data['Roster Position'].str.contains('FLEX')].copy()\n",
    "    flex_df['selected'] = False\n",
    "\n",
    "    for df in [qb_df, rb_df, wr_df, te_df, dst_df, flex_df]:\n",
    "        df.sort_values(by='AvgPointsPerGame', ascending=False, inplace=True)\n",
    "\n",
    "    budget = 50000\n",
    "    #num_teams = 10\n",
    "    best_teams = []\n",
    "    message = \"\"\n",
    "#     def calculate_team_points(team):\n",
    "#         weighted_points = 0\n",
    "#         total_weight = 0\n",
    "\n",
    "#         for player in team:\n",
    "#             player_info = data[data['Name'] == player]\n",
    "#             avg_points = player_info['AvgPointsPerGame'].values[0]\n",
    "#             oprk = player_info['OPRK'].values[0]\n",
    "\n",
    "#             # Check for zero division (to avoid divide by zero errors)\n",
    "#             if avg_points == 0:\n",
    "#                 weight = 0\n",
    "#             else:\n",
    "#                 weight = oprk / avg_points\n",
    "\n",
    "#             weighted_points += avg_points * weight\n",
    "#             total_weight += weight\n",
    "\n",
    "#         return weighted_points / total_weight if total_weight != 0 else 0\n",
    "    def calculate_team_points(team):\n",
    "        return sum(data[data['Name'] == player]['AvgPointsPerGame'].values[0] for player in team)\n",
    "\n",
    "    def calculate_team_salary(team):\n",
    "        return sum(data[data['Name'] == player]['Salary'].values[0] for player in team)\n",
    "\n",
    "    def is_valid_team(team):\n",
    "        # Ensure there is at least one QB, two RBs, three WRs, one TE, one DST, and one FLEX\n",
    "        positions_count = {\n",
    "            'QB': 0,\n",
    "            'RB': 0,\n",
    "            'WR': 0,\n",
    "            'TE': 0,\n",
    "            'DST': 0,\n",
    "            'FLEX': 0\n",
    "        }\n",
    "        for position, players in team.items():\n",
    "            for player in players:\n",
    "                positions_count[position] += 1\n",
    "\n",
    "        if (positions_count['QB'] >= 1 and\n",
    "            positions_count['RB'] >= 2 and\n",
    "            positions_count['WR'] >= 3 and  # Change to select 3 WRs\n",
    "            positions_count['TE'] >= 1 and  # Change to select 1 TE\n",
    "            positions_count['DST'] >= 1 and\n",
    "            positions_count['FLEX'] >= 1):\n",
    "            return True\n",
    "\n",
    "        return False\n",
    "    max_iterations = 10000  # Set a maximum number of iterations to prevent an infinite loop\n",
    "    iterations = 0  # Initialize the iteration counter\n",
    "    player_short = False\n",
    "    while len(best_teams) < num_teams:\n",
    "        iterations +=1\n",
    "        #print(iterations)\n",
    "        team = {\n",
    "            'QB': [],\n",
    "            'RB': [],\n",
    "            'WR': [],\n",
    "            'TE': [],\n",
    "            'DST': [],\n",
    "            'FLEX': []\n",
    "        }\n",
    "\n",
    "        positions = {\n",
    "            'QB': (qb_df, 1),\n",
    "            'RB': (rb_df, 2),\n",
    "            'WR': (wr_df, 3),  # Changed to 3 WR positions\n",
    "            'TE': (te_df, 1),\n",
    "            'DST': (dst_df, 1),\n",
    "            'FLEX': (flex_df, 1)\n",
    "        }\n",
    "\n",
    "        remaining_budget = budget\n",
    "        for position, (position_df, limit) in positions.items():\n",
    "            #print(position_df.shape)\n",
    "            available_players = position_df[~position_df['selected']]\n",
    "            #Filter players based on OPRK cutoff\n",
    "            #available_players = available_players[available_players['AvgPointsPerGame'] > 0]\n",
    "          \n",
    "            available_players = available_players[available_players['OPRK'] >= cutoff_oprk]\n",
    "            \n",
    "            #print(f\" Based on criteria Out of {position_df.shape[0]} players : {available_players.shape[0]} Were available\")\n",
    "            #print(f\"{len(available_players)} {limit}\")\n",
    "            \n",
    "            if len(available_players) < limit:\n",
    "                player_short = True  # Not enough players for this position\n",
    "\n",
    "            combinations_for_position = combinations(available_players['Name'], limit)\n",
    "            valid_teams = []\n",
    "\n",
    "            for combo in combinations_for_position:\n",
    "                if calculate_team_salary(combo) <= remaining_budget:\n",
    "                    valid_teams.append(combo)\n",
    "\n",
    "            if not valid_teams:\n",
    "                break  # No valid teams for this position\n",
    "\n",
    "            # Choose the team with the highest total points\n",
    "            best_team_for_position = max(valid_teams, key=calculate_team_points)\n",
    "            team[position] = best_team_for_position\n",
    "\n",
    "            # Mark the selected players as 'selected'\n",
    "            position_df.loc[position_df['Name'].isin(best_team_for_position), 'selected'] = True\n",
    "\n",
    "            # Update the remaining budget\n",
    "            remaining_budget -= calculate_team_salary(best_team_for_position)\n",
    "        if player_short:\n",
    "            message = \"Number of avilable player of a possition is less then required. Consider adjusting parameters.\"\n",
    "            break\n",
    "        if is_valid_team(team):\n",
    "            best_teams.append(team)\n",
    "        if iterations >= max_iterations:\n",
    "            message = \"Maximum number of iterations reached. Consider adjusting parameters.\"\n",
    "            break \n",
    "    if len(best_teams) == num_teams:\n",
    "        message = \"Found the rquested number of teams\"\n",
    "    # Create a list of DataFrames for each team\n",
    "    best_teams_df = []\n",
    "    for i, team in enumerate(best_teams):\n",
    "        team_data = []\n",
    "        total_points = 0\n",
    "        total_salary = 0\n",
    "\n",
    "        for position, players in team.items():\n",
    "            for player in players:\n",
    "                player_info = data[data['Name'] == player][['Roster Position', 'Name', 'Salary', 'AvgPointsPerGame', 'OPRK']]\n",
    "                team_data.append(player_info.values[0])\n",
    "\n",
    "                # Calculate total points and total salary for the team\n",
    "                total_points += player_info['AvgPointsPerGame'].values[0]\n",
    "                total_salary += player_info['Salary'].values[0]\n",
    "\n",
    "        # Create a DataFrame for the team\n",
    "        team_df = pd.DataFrame(team_data, columns=['Roster Position', 'Name', 'Price', 'Avg Points Per Game', 'OPRK'])\n",
    "        team_df['Team'] = f'Team {i + 1}'\n",
    "        team_df['Total Points'] = total_points\n",
    "        team_df['Total Salary'] = total_salary\n",
    "        best_teams_df.append(team_df)\n",
    "\n",
    "    return message,best_teams_df\n"
   ]
  },
  {
   "cell_type": "markdown",
   "id": "1ce8dec3",
   "metadata": {},
   "source": [
    "## Run this code to Give Input and View Result"
   ]
  },
  {
   "cell_type": "code",
   "execution_count": 19,
   "id": "281d540c",
   "metadata": {},
   "outputs": [
    {
     "data": {
      "application/vnd.jupyter.widget-view+json": {
       "model_id": "cea9899bc4d942c4867b66d1647f3cc9",
       "version_major": 2,
       "version_minor": 0
      },
      "text/plain": [
       "FileUpload(value=(), accept='.xlsx', description='Upload Excel file')"
      ]
     },
     "metadata": {},
     "output_type": "display_data"
    },
    {
     "data": {
      "application/vnd.jupyter.widget-view+json": {
       "model_id": "f71c518498f842e796f0d8232c3af129",
       "version_major": 2,
       "version_minor": 0
      },
      "text/plain": [
       "IntText(value=5, description='OPRK Cutoff')"
      ]
     },
     "metadata": {},
     "output_type": "display_data"
    },
    {
     "data": {
      "application/vnd.jupyter.widget-view+json": {
       "model_id": "73a2535001014c2cb57bf54c3eb64790",
       "version_major": 2,
       "version_minor": 0
      },
      "text/plain": [
       "IntText(value=10, description='Num of Team')"
      ]
     },
     "metadata": {},
     "output_type": "display_data"
    },
    {
     "data": {
      "application/vnd.jupyter.widget-view+json": {
       "model_id": "a4c86dd906484ba79af3c5c10694199a",
       "version_major": 2,
       "version_minor": 0
      },
      "text/plain": [
       "Button(description='Calculate Best Teams', style=ButtonStyle())"
      ]
     },
     "metadata": {},
     "output_type": "display_data"
    },
    {
     "data": {
      "application/vnd.jupyter.widget-view+json": {
       "model_id": "601ed604e30c4279ae9ccad010a70a3e",
       "version_major": 2,
       "version_minor": 0
      },
      "text/plain": [
       "Output()"
      ]
     },
     "metadata": {},
     "output_type": "display_data"
    }
   ],
   "source": [
    "# Create widgets for file upload and cutoff_oprk input\n",
    "file_upload = widgets.FileUpload(accept='.xlsx', description='Upload Excel file')\n",
    "cutoff_oprk = widgets.IntText(value=5, description='OPRK Cutoff')\n",
    "num_teams = widgets.IntText(value=10, description='Num of Team')\n",
    "\n",
    "# Define output widgets\n",
    "output_table = widgets.Output()\n",
    "\n",
    "\n",
    "def on_button_click(b):\n",
    "\n",
    "    with output_table:\n",
    "        clear_output()\n",
    "        \n",
    "        if file_upload.value:\n",
    "            \n",
    "            # Display a \"Working...\" message\n",
    "            display(HTML(\"<h3>Working...</h3>\"))\n",
    "            \n",
    "            uploaded_file = list(file_upload.value)[0]  # Access the first uploaded file\n",
    "            file_content = uploaded_file['content']\n",
    "            with open(uploaded_file['name'], 'wb') as f:\n",
    "                f.write(file_content)\n",
    "            \n",
    "            data = pd.read_excel(uploaded_file['name'])\n",
    "            cutoff = cutoff_oprk.value\n",
    "            message, best_teams_df = find_best_teams(data, cutoff,num_teams.value)\n",
    "            \n",
    "            # Display each team dataframe\n",
    "            clear_output()\n",
    "            print(message)\n",
    "            for team_df in best_teams_df:\n",
    "                team_name = team_df['Team'].iloc[0]\n",
    "                total_points = team_df['Total Points'].iloc[0]\n",
    "                total_salary = team_df['Total Salary'].iloc[0]\n",
    "                print(f\"Team {team_name}: Total Points = {total_points}, Total Salary = {total_salary}\")\n",
    "                display(team_df[[\"Roster Position\",\"Name\",\"Price\",\"Avg Points Per Game\",\"OPRK\"]])\n",
    "        else:\n",
    "            # Display a pop-up message if no file is selected\n",
    "            display(Javascript(\"alert('Please select an Excel file before clicking submit.');\"))\n",
    "            return  # Exit the function\n",
    "        \n",
    "# Create a button widget to trigger the team calculation\n",
    "calculate_button = widgets.Button(description='Calculate Best Teams')\n",
    "calculate_button.on_click(on_button_click)\n",
    "\n",
    "# Display widgets\n",
    "display(file_upload, cutoff_oprk,num_teams, calculate_button)\n",
    "display(output_table)"
   ]
  },
  {
   "cell_type": "code",
   "execution_count": null,
   "id": "36a54700",
   "metadata": {},
   "outputs": [],
   "source": []
  }
 ],
 "metadata": {
  "kernelspec": {
   "display_name": "Python 3 (ipykernel)",
   "language": "python",
   "name": "python3"
  },
  "language_info": {
   "codemirror_mode": {
    "name": "ipython",
    "version": 3
   },
   "file_extension": ".py",
   "mimetype": "text/x-python",
   "name": "python",
   "nbconvert_exporter": "python",
   "pygments_lexer": "ipython3",
   "version": "3.9.13"
  }
 },
 "nbformat": 4,
 "nbformat_minor": 5
}
